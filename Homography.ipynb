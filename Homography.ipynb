{
 "cells": [
  {
   "cell_type": "code",
   "execution_count": null,
   "id": "0ae74e74-06c9-4f27-814d-e1de02e74753",
   "metadata": {},
   "outputs": [],
   "source": [
    "!pip install scikit-image"
   ]
  },
  {
   "cell_type": "code",
   "execution_count": null,
   "id": "b9488deb-9b9e-4672-9867-7c30b0d872fb",
   "metadata": {},
   "outputs": [],
   "source": [
    "%matplotlib tk\n",
    "import matplotlib.pyplot as plt\n",
    "import matplotlib.image as mpimg\n",
    "from skimage.io import imread, imshow\n",
    "\n",
    "fig = plt.figure(figsize=(20,30))\n",
    "\n",
    "img=mpimg.imread('chess.png')\n",
    "points = []\n",
    "\n",
    "def onclick(event):\n",
    "    ix, iy = event.xdata, event.ydata\n",
    "    points.append((ix,iy))\n",
    "    print(ix, iy)\n",
    "\n",
    "cid = fig.canvas.mpl_connect('button_press_event', onclick)\n",
    "\n",
    "imgplot = plt.imshow(img)\n",
    "plt.show()"
   ]
  },
  {
   "cell_type": "code",
   "execution_count": null,
   "id": "4cc297b1-76e9-4ace-8b95-bb0042f14f57",
   "metadata": {},
   "outputs": [],
   "source": [
    "points"
   ]
  },
  {
   "cell_type": "code",
   "execution_count": null,
   "id": "02ea5edb-def4-4b91-be8d-66ce8da0ddc8",
   "metadata": {},
   "outputs": [],
   "source": [
    "plt.imshow(img)\n",
    "plt.plot([i[0] for i in points],[i[1] for i in points], 'ro')"
   ]
  },
  {
   "cell_type": "code",
   "execution_count": null,
   "id": "7d93700d-c34b-4227-a1eb-a259e76ff104",
   "metadata": {},
   "outputs": [],
   "source": [
    "np.array([391, 100, \n",
    "                14, 271,\n",
    "                347, 624,\n",
    "                747, 298,]).reshape((4, 2))"
   ]
  },
  {
   "cell_type": "code",
   "execution_count": null,
   "id": "0611c20f-8d4f-433f-abb5-13d6dcace6a1",
   "metadata": {},
   "outputs": [],
   "source": [
    "from skimage.io import imread, imshow\n",
    "from skimage import transform\n",
    "import matplotlib.pyplot as plt\n",
    "import numpy as np"
   ]
  },
  {
   "cell_type": "code",
   "execution_count": null,
   "id": "c6c28142-1266-4d4c-a3d5-50ce837678d2",
   "metadata": {},
   "outputs": [],
   "source": [
    "chess = imread('chess.png')\n",
    "imshow(chess)"
   ]
  },
  {
   "cell_type": "code",
   "execution_count": null,
   "id": "5de8ea48-b5eb-4c2f-a677-dda7798c74a3",
   "metadata": {},
   "outputs": [],
   "source": [
    "#source coordinates\n",
    "src = np.array([391, 100, \n",
    "                14, 271,\n",
    "                347, 624,\n",
    "                747, 298,]).reshape((4, 2))\n",
    "#destination coordinates\n",
    "dst = np.array([100, 100, \n",
    "                100, 650,\n",
    "                650, 650,\n",
    "                650, 100,]).reshape((4, 2))\n",
    "#using skimage’s transform module where ‘projective’ is our desired parameter\n",
    "tform = transform.estimate_transform('projective', src, dst)\n",
    "tf_img = transform.warp(chess, tform.inverse)\n",
    "#plotting the transformed image\n",
    "fig, ax = plt.subplots()\n",
    "ax.imshow(tf_img)\n",
    "_ = ax.set_title('projective transformation')"
   ]
  },
  {
   "cell_type": "code",
   "execution_count": null,
   "id": "e0f270f7-065e-46b2-97b8-4493b3c5a0ff",
   "metadata": {},
   "outputs": [],
   "source": []
  }
 ],
 "metadata": {
  "kernelspec": {
   "display_name": "Python 3 (ipykernel)",
   "language": "python",
   "name": "python3"
  },
  "language_info": {
   "codemirror_mode": {
    "name": "ipython",
    "version": 3
   },
   "file_extension": ".py",
   "mimetype": "text/x-python",
   "name": "python",
   "nbconvert_exporter": "python",
   "pygments_lexer": "ipython3",
   "version": "3.9.12"
  }
 },
 "nbformat": 4,
 "nbformat_minor": 5
}
